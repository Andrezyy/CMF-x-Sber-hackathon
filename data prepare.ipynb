{
 "cells": [
  {
   "cell_type": "code",
   "execution_count": 62,
   "id": "c57ae507-65f6-4424-baa7-9cc4db08637d",
   "metadata": {},
   "outputs": [],
   "source": [
    "import numpy as np\n",
    "import pandas as pd\n",
    "import matplotlib.pyplot as plt\n",
    "import seaborn as sns\n",
    "\n",
    "from tqdm.notebook import tqdm\n",
    "import os\n",
    "import itertools"
   ]
  },
  {
   "cell_type": "code",
   "execution_count": 63,
   "id": "88ac5ac6-51b1-4d9f-8500-5cb77415e279",
   "metadata": {},
   "outputs": [],
   "source": [
    "import warnings\n",
    "warnings.simplefilter(action='ignore', category=FutureWarning)"
   ]
  },
  {
   "cell_type": "code",
   "execution_count": 64,
   "id": "3b7abd86-0341-4d89-a6b7-b374aa353f44",
   "metadata": {},
   "outputs": [],
   "source": [
    "data_orders = pd.read_csv(r\"orders.csv\")\n",
    "data_orders['date'] = pd.to_datetime(data_orders['date'])"
   ]
  },
  {
   "cell_type": "code",
   "execution_count": 65,
   "id": "155594b7-2819-42d2-9ab3-825a29d9fec8",
   "metadata": {},
   "outputs": [],
   "source": [
    "data_orders['year'] = data_orders.date.dt.year\n",
    "data_orders['month'] = data_orders.date.dt.month\n",
    "data_orders['week'] = data_orders.date.dt.isocalendar().week.astype('int32')\n",
    "data_orders['day_of_week'] = data_orders.date.dt.dayofweek\n",
    "data_orders['day'] = data_orders.date.dt.day\n",
    "data_orders['hour'] = data_orders.date.dt.hour"
   ]
  },
  {
   "cell_type": "code",
   "execution_count": 66,
   "id": "c952b7ce-5d75-4134-84e4-7e74ab59ad82",
   "metadata": {},
   "outputs": [],
   "source": [
    "data_partners = pd.read_csv(r\"partners_delays.csv\")\n",
    "data_partners['dttm'] = pd.to_datetime(data_partners['dttm'])"
   ]
  },
  {
   "cell_type": "code",
   "execution_count": 67,
   "id": "47bc93c7-074b-43e6-b39d-e10cbc6dfa00",
   "metadata": {},
   "outputs": [
    {
     "data": {
      "text/html": [
       "<div>\n",
       "<style scoped>\n",
       "    .dataframe tbody tr th:only-of-type {\n",
       "        vertical-align: middle;\n",
       "    }\n",
       "\n",
       "    .dataframe tbody tr th {\n",
       "        vertical-align: top;\n",
       "    }\n",
       "\n",
       "    .dataframe thead th {\n",
       "        text-align: right;\n",
       "    }\n",
       "</style>\n",
       "<table border=\"1\" class=\"dataframe\">\n",
       "  <thead>\n",
       "    <tr style=\"text-align: right;\">\n",
       "      <th></th>\n",
       "      <th>delivery_area_id</th>\n",
       "      <th>date</th>\n",
       "      <th>orders_cnt</th>\n",
       "      <th>year</th>\n",
       "      <th>month</th>\n",
       "      <th>week</th>\n",
       "      <th>day_of_week</th>\n",
       "      <th>day</th>\n",
       "      <th>hour</th>\n",
       "    </tr>\n",
       "  </thead>\n",
       "  <tbody>\n",
       "    <tr>\n",
       "      <th>0</th>\n",
       "      <td>0</td>\n",
       "      <td>2021-04-01 10:00:00</td>\n",
       "      <td>9</td>\n",
       "      <td>2021</td>\n",
       "      <td>4</td>\n",
       "      <td>13</td>\n",
       "      <td>3</td>\n",
       "      <td>1</td>\n",
       "      <td>10</td>\n",
       "    </tr>\n",
       "    <tr>\n",
       "      <th>1</th>\n",
       "      <td>0</td>\n",
       "      <td>2021-04-01 11:00:00</td>\n",
       "      <td>1</td>\n",
       "      <td>2021</td>\n",
       "      <td>4</td>\n",
       "      <td>13</td>\n",
       "      <td>3</td>\n",
       "      <td>1</td>\n",
       "      <td>11</td>\n",
       "    </tr>\n",
       "    <tr>\n",
       "      <th>2</th>\n",
       "      <td>0</td>\n",
       "      <td>2021-04-01 13:00:00</td>\n",
       "      <td>1</td>\n",
       "      <td>2021</td>\n",
       "      <td>4</td>\n",
       "      <td>13</td>\n",
       "      <td>3</td>\n",
       "      <td>1</td>\n",
       "      <td>13</td>\n",
       "    </tr>\n",
       "    <tr>\n",
       "      <th>3</th>\n",
       "      <td>0</td>\n",
       "      <td>2021-04-01 14:00:00</td>\n",
       "      <td>1</td>\n",
       "      <td>2021</td>\n",
       "      <td>4</td>\n",
       "      <td>13</td>\n",
       "      <td>3</td>\n",
       "      <td>1</td>\n",
       "      <td>14</td>\n",
       "    </tr>\n",
       "    <tr>\n",
       "      <th>4</th>\n",
       "      <td>0</td>\n",
       "      <td>2021-04-01 15:00:00</td>\n",
       "      <td>2</td>\n",
       "      <td>2021</td>\n",
       "      <td>4</td>\n",
       "      <td>13</td>\n",
       "      <td>3</td>\n",
       "      <td>1</td>\n",
       "      <td>15</td>\n",
       "    </tr>\n",
       "  </tbody>\n",
       "</table>\n",
       "</div>"
      ],
      "text/plain": [
       "   delivery_area_id                date  orders_cnt  year  month  week  \\\n",
       "0                 0 2021-04-01 10:00:00           9  2021      4    13   \n",
       "1                 0 2021-04-01 11:00:00           1  2021      4    13   \n",
       "2                 0 2021-04-01 13:00:00           1  2021      4    13   \n",
       "3                 0 2021-04-01 14:00:00           1  2021      4    13   \n",
       "4                 0 2021-04-01 15:00:00           2  2021      4    13   \n",
       "\n",
       "   day_of_week  day  hour  \n",
       "0            3    1    10  \n",
       "1            3    1    11  \n",
       "2            3    1    13  \n",
       "3            3    1    14  \n",
       "4            3    1    15  "
      ]
     },
     "execution_count": 67,
     "metadata": {},
     "output_type": "execute_result"
    }
   ],
   "source": [
    "data_orders.head()"
   ]
  },
  {
   "cell_type": "code",
   "execution_count": 68,
   "id": "a3b83e92-2cbd-4498-93d7-e76d925aa531",
   "metadata": {},
   "outputs": [
    {
     "data": {
      "text/html": [
       "<div>\n",
       "<style scoped>\n",
       "    .dataframe tbody tr th:only-of-type {\n",
       "        vertical-align: middle;\n",
       "    }\n",
       "\n",
       "    .dataframe tbody tr th {\n",
       "        vertical-align: top;\n",
       "    }\n",
       "\n",
       "    .dataframe thead th {\n",
       "        text-align: right;\n",
       "    }\n",
       "</style>\n",
       "<table border=\"1\" class=\"dataframe\">\n",
       "  <thead>\n",
       "    <tr style=\"text-align: right;\">\n",
       "      <th></th>\n",
       "      <th>delivery_area_id</th>\n",
       "      <th>dttm</th>\n",
       "      <th>partners_cnt</th>\n",
       "      <th>delay_rate</th>\n",
       "    </tr>\n",
       "  </thead>\n",
       "  <tbody>\n",
       "    <tr>\n",
       "      <th>0</th>\n",
       "      <td>0</td>\n",
       "      <td>2021-04-01 09:00:00</td>\n",
       "      <td>3.0</td>\n",
       "      <td>0.000000</td>\n",
       "    </tr>\n",
       "    <tr>\n",
       "      <th>1</th>\n",
       "      <td>0</td>\n",
       "      <td>2021-04-01 10:00:00</td>\n",
       "      <td>4.0</td>\n",
       "      <td>0.111111</td>\n",
       "    </tr>\n",
       "    <tr>\n",
       "      <th>2</th>\n",
       "      <td>0</td>\n",
       "      <td>2021-04-01 11:00:00</td>\n",
       "      <td>4.0</td>\n",
       "      <td>0.000000</td>\n",
       "    </tr>\n",
       "    <tr>\n",
       "      <th>3</th>\n",
       "      <td>0</td>\n",
       "      <td>2021-04-01 12:00:00</td>\n",
       "      <td>4.0</td>\n",
       "      <td>0.000000</td>\n",
       "    </tr>\n",
       "    <tr>\n",
       "      <th>4</th>\n",
       "      <td>0</td>\n",
       "      <td>2021-04-01 13:00:00</td>\n",
       "      <td>1.0</td>\n",
       "      <td>0.000000</td>\n",
       "    </tr>\n",
       "  </tbody>\n",
       "</table>\n",
       "</div>"
      ],
      "text/plain": [
       "   delivery_area_id                dttm  partners_cnt  delay_rate\n",
       "0                 0 2021-04-01 09:00:00           3.0    0.000000\n",
       "1                 0 2021-04-01 10:00:00           4.0    0.111111\n",
       "2                 0 2021-04-01 11:00:00           4.0    0.000000\n",
       "3                 0 2021-04-01 12:00:00           4.0    0.000000\n",
       "4                 0 2021-04-01 13:00:00           1.0    0.000000"
      ]
     },
     "execution_count": 68,
     "metadata": {},
     "output_type": "execute_result"
    }
   ],
   "source": [
    "data_partners.head()"
   ]
  },
  {
   "cell_type": "markdown",
   "id": "aceb7332-38f0-43e5-ba6f-b7b45d917b54",
   "metadata": {},
   "source": [
    "**Часы работы**\n",
    "- В таблице orders есть пропуски (внутри дней пропущенные некоторые часы), это на самом деле значит, что в эти часы было 0 заказов.\n",
    "- Нужно восполнить эти пропуски, так как для обучения модели это важно, чтобы не нарушалась переодичность данных. Выясним в какие часы работает каждая зона доставки и уберем в этих интревалах времени пробелы. Дополнять данные по дню до целых суток не буду, так как во время когда  зона доставки не работает будет везде 0 заказов. На переодичность это не повляет."
   ]
  },
  {
   "cell_type": "markdown",
   "id": "a1b5fa44-2641-497a-9869-69a9d9217656",
   "metadata": {},
   "source": [
    "Время работы зон будем смотреть через таблицу partners_delays так как она более полная и без пропусков"
   ]
  },
  {
   "cell_type": "markdown",
   "id": "67dfbc51-80c5-415b-8733-6e66c8c96d0b",
   "metadata": {},
   "source": [
    "Все зоны работают разное количество часов, в разное времея начинают и заканчивают, но каждая внутри каждой ЗД часы всегда совпадают. Кроме одного случая в 248ой ЗД, она в один день проработала другое время, считаем что она работает 14 часов с 10 00 до 23 00"
   ]
  },
  {
   "cell_type": "code",
   "execution_count": 72,
   "id": "ff086fb0-f69f-44af-ae9c-430a722619fe",
   "metadata": {},
   "outputs": [],
   "source": [
    "groups = data_partners.groupby(by=['delivery_area_id','month','day'], dropna=False)"
   ]
  },
  {
   "cell_type": "code",
   "execution_count": 73,
   "id": "179d040d-1ecd-45dd-bc27-9fe997c9f976",
   "metadata": {},
   "outputs": [],
   "source": [
    "lst=[]\n",
    "k=-1\n",
    "for vals, group in groups:\n",
    "    if k==-1:\n",
    "        max_date = pd.to_datetime('2021-04-01 09:00:00')\n",
    "        k=vals[0]\n",
    "        work_hours = {}\n",
    "        work_start = {}\n",
    "        work_end = {}\n",
    "    elif vals[0] != k:\n",
    "        lst.append([k, max(work_hours, key=work_hours.get), max(work_start, key=work_start.get), max(work_end, key=work_end.get), max_date])\n",
    "        k = vals[0]\n",
    "        max_date = pd.to_datetime('2021-04-01 09:00:00')\n",
    "        work_hours = {}\n",
    "        work_start = {}\n",
    "        work_end = {}\n",
    "    \n",
    "    try:\n",
    "        work_hours[group.shape[0]] += 1\n",
    "    except:\n",
    "        work_hours[group.shape[0]] = 1\n",
    "    \n",
    "    try:\n",
    "        work_start[min(group.hour)] += 1\n",
    "    except:\n",
    "        work_start[min(group.hour)] = 1\n",
    "        \n",
    "    try:\n",
    "        work_end[max(group.hour)] += 1\n",
    "    except:\n",
    "        work_end[max(group.hour)] = 1\n",
    "    \n",
    "    if max(group.dttm) > max_date:\n",
    "        max_date = max(group.dttm)\n",
    "\n",
    "lst.append([k, max(work_hours, key=work_hours.get), max(work_start, key=work_start.get), max(work_end, key=work_end.get), max_date])\n",
    "        \n",
    "work_hours = pd.DataFrame(data = lst, columns = ['delivery_area_id','hours','start','end', 'max_date'])"
   ]
  },
  {
   "cell_type": "code",
   "execution_count": 74,
   "id": "2eac014e-9129-4472-b691-7a83fbb2285b",
   "metadata": {},
   "outputs": [
    {
     "data": {
      "text/html": [
       "<div>\n",
       "<style scoped>\n",
       "    .dataframe tbody tr th:only-of-type {\n",
       "        vertical-align: middle;\n",
       "    }\n",
       "\n",
       "    .dataframe tbody tr th {\n",
       "        vertical-align: top;\n",
       "    }\n",
       "\n",
       "    .dataframe thead th {\n",
       "        text-align: right;\n",
       "    }\n",
       "</style>\n",
       "<table border=\"1\" class=\"dataframe\">\n",
       "  <thead>\n",
       "    <tr style=\"text-align: right;\">\n",
       "      <th></th>\n",
       "      <th>delivery_area_id</th>\n",
       "      <th>hours</th>\n",
       "      <th>start</th>\n",
       "      <th>end</th>\n",
       "      <th>max_date</th>\n",
       "    </tr>\n",
       "  </thead>\n",
       "  <tbody>\n",
       "    <tr>\n",
       "      <th>0</th>\n",
       "      <td>0</td>\n",
       "      <td>14</td>\n",
       "      <td>9</td>\n",
       "      <td>22</td>\n",
       "      <td>2021-11-30 22:00:00</td>\n",
       "    </tr>\n",
       "    <tr>\n",
       "      <th>1</th>\n",
       "      <td>1</td>\n",
       "      <td>14</td>\n",
       "      <td>8</td>\n",
       "      <td>21</td>\n",
       "      <td>2021-11-30 21:00:00</td>\n",
       "    </tr>\n",
       "    <tr>\n",
       "      <th>2</th>\n",
       "      <td>2</td>\n",
       "      <td>12</td>\n",
       "      <td>10</td>\n",
       "      <td>21</td>\n",
       "      <td>2021-11-30 21:00:00</td>\n",
       "    </tr>\n",
       "    <tr>\n",
       "      <th>3</th>\n",
       "      <td>3</td>\n",
       "      <td>13</td>\n",
       "      <td>9</td>\n",
       "      <td>21</td>\n",
       "      <td>2021-11-30 21:00:00</td>\n",
       "    </tr>\n",
       "    <tr>\n",
       "      <th>4</th>\n",
       "      <td>4</td>\n",
       "      <td>13</td>\n",
       "      <td>10</td>\n",
       "      <td>22</td>\n",
       "      <td>2021-11-30 22:00:00</td>\n",
       "    </tr>\n",
       "  </tbody>\n",
       "</table>\n",
       "</div>"
      ],
      "text/plain": [
       "   delivery_area_id  hours  start  end            max_date\n",
       "0                 0     14      9   22 2021-11-30 22:00:00\n",
       "1                 1     14      8   21 2021-11-30 21:00:00\n",
       "2                 2     12     10   21 2021-11-30 21:00:00\n",
       "3                 3     13      9   21 2021-11-30 21:00:00\n",
       "4                 4     13     10   22 2021-11-30 22:00:00"
      ]
     },
     "execution_count": 74,
     "metadata": {},
     "output_type": "execute_result"
    }
   ],
   "source": [
    "work_hours.head()"
   ]
  },
  {
   "cell_type": "code",
   "execution_count": 75,
   "id": "c8875ade-875c-4797-a74a-8e1d520e4568",
   "metadata": {},
   "outputs": [
    {
     "data": {
      "text/plain": [
       "array(['2021-11-30T22:00:00.000000000', '2021-11-30T21:00:00.000000000',\n",
       "       '2021-11-30T20:00:00.000000000'], dtype='datetime64[ns]')"
      ]
     },
     "execution_count": 75,
     "metadata": {},
     "output_type": "execute_result"
    }
   ],
   "source": [
    "work_hours.max_date.unique()"
   ]
  },
  {
   "cell_type": "code",
   "execution_count": 14,
   "id": "b950b22d-e473-4a75-9039-c9c3e81d3076",
   "metadata": {},
   "outputs": [],
   "source": [
    "work_hours.to_csv(os.getcwd()+'\\work_hours_by_areas.csv',index=False)"
   ]
  },
  {
   "cell_type": "code",
   "execution_count": null,
   "id": "3d08807f-782e-4ecf-81d4-e2a65b6ea2b2",
   "metadata": {},
   "outputs": [],
   "source": []
  },
  {
   "cell_type": "markdown",
   "id": "264276cd-9dab-4013-a08d-8d747528e708",
   "metadata": {},
   "source": [
    "**Дополняем orders нулями в соотвествии с часами работы зоны доставки**"
   ]
  },
  {
   "cell_type": "code",
   "execution_count": null,
   "id": "c6c6e58f-2bcb-45e4-9ec6-bb35f66fc355",
   "metadata": {},
   "outputs": [],
   "source": [
    "groups = data_orders.groupby(by=['delivery_area_id','month','day'], dropna=False)"
   ]
  },
  {
   "cell_type": "code",
   "execution_count": null,
   "id": "cf01fa3d-7184-4d62-860b-790dc0ffdb12",
   "metadata": {},
   "outputs": [],
   "source": [
    "lst=[]\n",
    "for vals, group in tqdm(groups):\n",
    "    area = vals[0]\n",
    "    start_work = work_hours[work_hours.delivery_area_id == area].start.item()\n",
    "    end_work = work_hours[work_hours.delivery_area_id == area].end.item()\n",
    "    hours = end_work - start_work + 1\n",
    "    if hours == group.shape[0]:\n",
    "        lst.append(group)\n",
    "    else:\n",
    "        year = group.iloc[0,3]\n",
    "        month = group.iloc[0,4]\n",
    "        week = group.iloc[0,5]\n",
    "        day_of_week = group.iloc[0,6]\n",
    "        day = group.iloc[0,7]\n",
    "        for hour in range(start_work, end_work+1):\n",
    "            if group[group.date.dt.hour == hour].empty:\n",
    "                group = group.append({'delivery_area_id':area,\n",
    "                                      'date': pd.to_datetime(f'{year}-{month}-{day} {hour}:00:00'),\n",
    "                                      'orders_cnt':0,\n",
    "                                      'year':year,\n",
    "                                      'month':month,\n",
    "                                      'week':week,\n",
    "                                      'day_of_week':day_of_week,\n",
    "                                      'day':day,\n",
    "                                      'hour':hour}, ignore_index= True)\n",
    "        group = group.sort_values(by = 'date')\n",
    "        lst.append(group)\n",
    "data_orders = pd.concat(lst, ignore_index=True)"
   ]
  },
  {
   "cell_type": "markdown",
   "id": "91cc9e7f-2162-401e-b0d7-b11789cf637e",
   "metadata": {},
   "source": [
    "Сохраняем"
   ]
  },
  {
   "cell_type": "code",
   "execution_count": null,
   "id": "f15c72a5-2b42-4ccb-bf3f-d4e4e812b38d",
   "metadata": {},
   "outputs": [],
   "source": [
    "data_orders.to_csv(os.getcwd()+'\\orders_modified.csv',index=False)"
   ]
  },
  {
   "cell_type": "code",
   "execution_count": null,
   "id": "857a3667-a0fa-4e2a-8cb1-d4db63d1a4a6",
   "metadata": {},
   "outputs": [],
   "source": []
  },
  {
   "cell_type": "markdown",
   "id": "64184df6-8e04-4358-883e-e04202b82989",
   "metadata": {},
   "source": [
    "**Добавим partners delays данные по количеству заказов в соотвествии с датой и зоной доставки**"
   ]
  },
  {
   "cell_type": "code",
   "execution_count": null,
   "id": "6694ea2f-675e-47df-b300-a9c1aa445ea0",
   "metadata": {},
   "outputs": [],
   "source": [
    "def orders_count(x):\n",
    "    try:\n",
    "        return data_orders[(data_orders.date == x.dttm) & (data_orders.delivery_area_id == x.delivery_area_id)].orders_cnt.item()\n",
    "    except: \n",
    "        return np.nan"
   ]
  },
  {
   "cell_type": "code",
   "execution_count": null,
   "id": "645cceb8-a156-47ca-b158-fce9eadd1a4b",
   "metadata": {},
   "outputs": [],
   "source": [
    "data_partners['orders_cnt'] = data_partners.apply(func = orders_count, axis=1)"
   ]
  },
  {
   "cell_type": "code",
   "execution_count": null,
   "id": "502c6a7d-cb95-4255-bd85-1351eec1b896",
   "metadata": {},
   "outputs": [],
   "source": [
    "data_partners = data_partners.fillna(0)"
   ]
  },
  {
   "cell_type": "code",
   "execution_count": null,
   "id": "71c3e391-9dbd-4993-bc21-365d0cfd4e79",
   "metadata": {},
   "outputs": [],
   "source": []
  },
  {
   "cell_type": "code",
   "execution_count": 71,
   "id": "db39fb13-fca3-4f6a-a17b-972c23afa685",
   "metadata": {},
   "outputs": [],
   "source": [
    "data_partners['year'] = data_partners.dttm.dt.year\n",
    "data_partners['month'] = data_partners.dttm.dt.month\n",
    "data_partners['week'] = data_partners.dttm.dt.isocalendar().week.astype('int32')\n",
    "data_partners['day_of_week'] = data_partners.dttm.dt.dayofweek\n",
    "data_partners['day'] = data_partners.dttm.dt.day\n",
    "data_partners['hour'] = data_partners.dttm.dt.hour"
   ]
  },
  {
   "cell_type": "markdown",
   "id": "db8ce93e-a4f1-4d72-9578-1d19fd499376",
   "metadata": {},
   "source": [
    "Сохраняем"
   ]
  },
  {
   "cell_type": "code",
   "execution_count": 64,
   "id": "3df2acc7-23b1-4afe-914c-6571204e5399",
   "metadata": {},
   "outputs": [],
   "source": [
    "data_partners.to_csv(os.getcwd()+'\\partners_delays_modified.csv',index=False)"
   ]
  },
  {
   "cell_type": "code",
   "execution_count": null,
   "id": "6bea0adc-e0c0-43ce-82fe-3c9990a0f50c",
   "metadata": {},
   "outputs": [],
   "source": []
  },
  {
   "cell_type": "markdown",
   "id": "6e6057bf-3dba-492b-b8e7-c9e62ff0d0e6",
   "metadata": {},
   "source": [
    "**Дневная сумма заказов**"
   ]
  },
  {
   "cell_type": "code",
   "execution_count": 6,
   "id": "29cdf673-009f-425f-8f29-7b6248adf40d",
   "metadata": {},
   "outputs": [],
   "source": [
    "data_orders = pd.read_csv(r\"orders_modified.csv\")"
   ]
  },
  {
   "cell_type": "code",
   "execution_count": 7,
   "id": "e5e01d1a-5e78-4df0-8120-e9aeec44edf2",
   "metadata": {},
   "outputs": [
    {
     "data": {
      "text/html": [
       "<div>\n",
       "<style scoped>\n",
       "    .dataframe tbody tr th:only-of-type {\n",
       "        vertical-align: middle;\n",
       "    }\n",
       "\n",
       "    .dataframe tbody tr th {\n",
       "        vertical-align: top;\n",
       "    }\n",
       "\n",
       "    .dataframe thead th {\n",
       "        text-align: right;\n",
       "    }\n",
       "</style>\n",
       "<table border=\"1\" class=\"dataframe\">\n",
       "  <thead>\n",
       "    <tr style=\"text-align: right;\">\n",
       "      <th></th>\n",
       "      <th>delivery_area_id</th>\n",
       "      <th>date</th>\n",
       "      <th>orders_cnt</th>\n",
       "      <th>year</th>\n",
       "      <th>month</th>\n",
       "      <th>week</th>\n",
       "      <th>day_of_week</th>\n",
       "      <th>day</th>\n",
       "      <th>hour</th>\n",
       "    </tr>\n",
       "  </thead>\n",
       "  <tbody>\n",
       "    <tr>\n",
       "      <th>0</th>\n",
       "      <td>0</td>\n",
       "      <td>2021-04-01 09:00:00</td>\n",
       "      <td>0.0</td>\n",
       "      <td>2021</td>\n",
       "      <td>4</td>\n",
       "      <td>13</td>\n",
       "      <td>3</td>\n",
       "      <td>1</td>\n",
       "      <td>9</td>\n",
       "    </tr>\n",
       "    <tr>\n",
       "      <th>1</th>\n",
       "      <td>0</td>\n",
       "      <td>2021-04-01 10:00:00</td>\n",
       "      <td>9.0</td>\n",
       "      <td>2021</td>\n",
       "      <td>4</td>\n",
       "      <td>13</td>\n",
       "      <td>3</td>\n",
       "      <td>1</td>\n",
       "      <td>10</td>\n",
       "    </tr>\n",
       "    <tr>\n",
       "      <th>2</th>\n",
       "      <td>0</td>\n",
       "      <td>2021-04-01 11:00:00</td>\n",
       "      <td>1.0</td>\n",
       "      <td>2021</td>\n",
       "      <td>4</td>\n",
       "      <td>13</td>\n",
       "      <td>3</td>\n",
       "      <td>1</td>\n",
       "      <td>11</td>\n",
       "    </tr>\n",
       "    <tr>\n",
       "      <th>3</th>\n",
       "      <td>0</td>\n",
       "      <td>2021-04-01 12:00:00</td>\n",
       "      <td>0.0</td>\n",
       "      <td>2021</td>\n",
       "      <td>4</td>\n",
       "      <td>13</td>\n",
       "      <td>3</td>\n",
       "      <td>1</td>\n",
       "      <td>12</td>\n",
       "    </tr>\n",
       "    <tr>\n",
       "      <th>4</th>\n",
       "      <td>0</td>\n",
       "      <td>2021-04-01 13:00:00</td>\n",
       "      <td>1.0</td>\n",
       "      <td>2021</td>\n",
       "      <td>4</td>\n",
       "      <td>13</td>\n",
       "      <td>3</td>\n",
       "      <td>1</td>\n",
       "      <td>13</td>\n",
       "    </tr>\n",
       "  </tbody>\n",
       "</table>\n",
       "</div>"
      ],
      "text/plain": [
       "   delivery_area_id                 date  orders_cnt  year  month  week  \\\n",
       "0                 0  2021-04-01 09:00:00         0.0  2021      4    13   \n",
       "1                 0  2021-04-01 10:00:00         9.0  2021      4    13   \n",
       "2                 0  2021-04-01 11:00:00         1.0  2021      4    13   \n",
       "3                 0  2021-04-01 12:00:00         0.0  2021      4    13   \n",
       "4                 0  2021-04-01 13:00:00         1.0  2021      4    13   \n",
       "\n",
       "   day_of_week  day  hour  \n",
       "0            3    1     9  \n",
       "1            3    1    10  \n",
       "2            3    1    11  \n",
       "3            3    1    12  \n",
       "4            3    1    13  "
      ]
     },
     "execution_count": 7,
     "metadata": {},
     "output_type": "execute_result"
    }
   ],
   "source": [
    "data_orders.head()"
   ]
  },
  {
   "cell_type": "code",
   "execution_count": 8,
   "id": "79a2abb6-3d42-4bc1-a539-d43259c9d604",
   "metadata": {},
   "outputs": [],
   "source": [
    "groups = data_orders.groupby(by=['delivery_area_id','month','day'], dropna=False)"
   ]
  },
  {
   "cell_type": "code",
   "execution_count": 9,
   "id": "f37f9596-b6e7-462b-968f-56c7ca945503",
   "metadata": {},
   "outputs": [
    {
     "data": {
      "application/vnd.jupyter.widget-view+json": {
       "model_id": "fde268d982c647f8b352d7b4f7504a0e",
       "version_major": 2,
       "version_minor": 0
      },
      "text/plain": [
       "  0%|          | 0/99337 [00:00<?, ?it/s]"
      ]
     },
     "metadata": {},
     "output_type": "display_data"
    }
   ],
   "source": [
    "lst=[]\n",
    "for vals, group in tqdm(groups):\n",
    "    area = vals[0]\n",
    "    month = vals[1]\n",
    "    week = group.iloc[0,5]\n",
    "    day = vals[2]\n",
    "    year = group.iloc[0,3]\n",
    "    count = sum(group.orders_cnt)\n",
    "    date = pd.to_datetime(f'{year}-{month}-{day}')\n",
    "    lst.append([area, date, count, year, month, week, day])\n",
    "daily_orders = pd.DataFrame(data= lst, columns=['delivery_area_id','date','orders_cnt','year','month', 'week','day'])"
   ]
  },
  {
   "cell_type": "code",
   "execution_count": 10,
   "id": "4346f8c4-e4dc-4351-932c-940333726dd8",
   "metadata": {},
   "outputs": [],
   "source": [
    "groups = daily_orders.groupby(by=['month','day'], dropna=False)"
   ]
  },
  {
   "cell_type": "code",
   "execution_count": 11,
   "id": "6c6e0326-eeb6-4f57-83dc-bed30087a78f",
   "metadata": {},
   "outputs": [
    {
     "data": {
      "application/vnd.jupyter.widget-view+json": {
       "model_id": "d1a571147afd47079978772f01760713",
       "version_major": 2,
       "version_minor": 0
      },
      "text/plain": [
       "  0%|          | 0/244 [00:00<?, ?it/s]"
      ]
     },
     "metadata": {},
     "output_type": "display_data"
    }
   ],
   "source": [
    "lst=[]\n",
    "for vals, group in tqdm(groups):\n",
    "    group.loc[:,'orders_cnt_day'] = sum(group.orders_cnt)\n",
    "    lst.append(group)\n",
    "daily_orders = pd.concat(lst, ignore_index=True)"
   ]
  },
  {
   "cell_type": "code",
   "execution_count": 12,
   "id": "a1b2fbc2-750b-4cff-bdb4-427a217cb908",
   "metadata": {},
   "outputs": [
    {
     "data": {
      "text/html": [
       "<div>\n",
       "<style scoped>\n",
       "    .dataframe tbody tr th:only-of-type {\n",
       "        vertical-align: middle;\n",
       "    }\n",
       "\n",
       "    .dataframe tbody tr th {\n",
       "        vertical-align: top;\n",
       "    }\n",
       "\n",
       "    .dataframe thead th {\n",
       "        text-align: right;\n",
       "    }\n",
       "</style>\n",
       "<table border=\"1\" class=\"dataframe\">\n",
       "  <thead>\n",
       "    <tr style=\"text-align: right;\">\n",
       "      <th></th>\n",
       "      <th>delivery_area_id</th>\n",
       "      <th>date</th>\n",
       "      <th>orders_cnt</th>\n",
       "      <th>year</th>\n",
       "      <th>month</th>\n",
       "      <th>week</th>\n",
       "      <th>day</th>\n",
       "      <th>orders_cnt_day</th>\n",
       "    </tr>\n",
       "  </thead>\n",
       "  <tbody>\n",
       "    <tr>\n",
       "      <th>0</th>\n",
       "      <td>0</td>\n",
       "      <td>2021-04-01</td>\n",
       "      <td>24.0</td>\n",
       "      <td>2021</td>\n",
       "      <td>4</td>\n",
       "      <td>13</td>\n",
       "      <td>1</td>\n",
       "      <td>1280.0</td>\n",
       "    </tr>\n",
       "    <tr>\n",
       "      <th>1</th>\n",
       "      <td>1</td>\n",
       "      <td>2021-04-01</td>\n",
       "      <td>27.0</td>\n",
       "      <td>2021</td>\n",
       "      <td>4</td>\n",
       "      <td>13</td>\n",
       "      <td>1</td>\n",
       "      <td>1280.0</td>\n",
       "    </tr>\n",
       "    <tr>\n",
       "      <th>2</th>\n",
       "      <td>2</td>\n",
       "      <td>2021-04-01</td>\n",
       "      <td>21.0</td>\n",
       "      <td>2021</td>\n",
       "      <td>4</td>\n",
       "      <td>13</td>\n",
       "      <td>1</td>\n",
       "      <td>1280.0</td>\n",
       "    </tr>\n",
       "    <tr>\n",
       "      <th>3</th>\n",
       "      <td>3</td>\n",
       "      <td>2021-04-01</td>\n",
       "      <td>11.0</td>\n",
       "      <td>2021</td>\n",
       "      <td>4</td>\n",
       "      <td>13</td>\n",
       "      <td>1</td>\n",
       "      <td>1280.0</td>\n",
       "    </tr>\n",
       "    <tr>\n",
       "      <th>4</th>\n",
       "      <td>4</td>\n",
       "      <td>2021-04-01</td>\n",
       "      <td>13.0</td>\n",
       "      <td>2021</td>\n",
       "      <td>4</td>\n",
       "      <td>13</td>\n",
       "      <td>1</td>\n",
       "      <td>1280.0</td>\n",
       "    </tr>\n",
       "  </tbody>\n",
       "</table>\n",
       "</div>"
      ],
      "text/plain": [
       "   delivery_area_id       date  orders_cnt  year  month  week  day  \\\n",
       "0                 0 2021-04-01        24.0  2021      4    13    1   \n",
       "1                 1 2021-04-01        27.0  2021      4    13    1   \n",
       "2                 2 2021-04-01        21.0  2021      4    13    1   \n",
       "3                 3 2021-04-01        11.0  2021      4    13    1   \n",
       "4                 4 2021-04-01        13.0  2021      4    13    1   \n",
       "\n",
       "   orders_cnt_day  \n",
       "0          1280.0  \n",
       "1          1280.0  \n",
       "2          1280.0  \n",
       "3          1280.0  \n",
       "4          1280.0  "
      ]
     },
     "execution_count": 12,
     "metadata": {},
     "output_type": "execute_result"
    }
   ],
   "source": [
    "daily_orders.head()"
   ]
  },
  {
   "cell_type": "markdown",
   "id": "acf32321-4926-4760-9cfd-002f94a7578f",
   "metadata": {},
   "source": [
    "Сохраняем"
   ]
  },
  {
   "cell_type": "code",
   "execution_count": 47,
   "id": "32303337-0a39-41d0-b47f-ca62721ad992",
   "metadata": {},
   "outputs": [],
   "source": [
    "daily_orders.to_csv(os.getcwd()+'\\daily_orders.csv',index=False)"
   ]
  },
  {
   "cell_type": "code",
   "execution_count": null,
   "id": "5a1039d7-960f-42ce-946c-add8d04cd0c0",
   "metadata": {},
   "outputs": [],
   "source": []
  },
  {
   "cell_type": "markdown",
   "id": "892bc845-7440-4203-af9e-094ef26fbc5a",
   "metadata": {},
   "source": [
    "**Создание тестового набора данных** (7 дней после 2021-11-30), для которого нужно:\n",
    "- Предсказать кол-во заказов по часам\n",
    "- Подобрать оптимальное кол-во курьеров, чтобы delay_rate был < 0.05\n",
    "- Составить оптимальное расписание из 4,5,6,7,8 часовых смен"
   ]
  },
  {
   "cell_type": "code",
   "execution_count": 76,
   "id": "64454741-ed10-47bd-9c88-7cf92ebedd1a",
   "metadata": {},
   "outputs": [
    {
     "data": {
      "application/vnd.jupyter.widget-view+json": {
       "model_id": "81d999b5d8ab4ad889492ecfcc29e9f7",
       "version_major": 2,
       "version_minor": 0
      },
      "text/plain": [
       "  0%|          | 0/7 [00:00<?, ?it/s]"
      ]
     },
     "metadata": {},
     "output_type": "display_data"
    }
   ],
   "source": [
    "dates = ['2021-12-01','2021-12-02','2021-12-03','2021-12-04','2021-12-05','2021-12-06','2021-12-07']\n",
    "columns = ['delivery_area_id','date']\n",
    "lst = []\n",
    "for date in tqdm(dates):\n",
    "    for area in data_orders.delivery_area_id.unique():\n",
    "        start = work_hours[work_hours.delivery_area_id == area].start.item()\n",
    "        end = work_hours[work_hours.delivery_area_id == area].end.item()\n",
    "        for hour in range(start, end + 1):\n",
    "            lst.append([area, pd.to_datetime(f'{date} {hour}:00:00')])\n",
    "test_data = pd.DataFrame(data=lst, columns =columns)"
   ]
  },
  {
   "cell_type": "code",
   "execution_count": 77,
   "id": "1c478a1e-326c-40e5-be0f-513d9ea6f2f6",
   "metadata": {},
   "outputs": [],
   "source": [
    "test_data = test_data.sort_values(by=['delivery_area_id','date'])"
   ]
  },
  {
   "cell_type": "code",
   "execution_count": 78,
   "id": "2fc7b911-c3ea-4ed6-9b16-b4f0f587db94",
   "metadata": {},
   "outputs": [],
   "source": [
    "test_data['year'] = test_data.date.dt.year\n",
    "test_data['month'] = test_data.date.dt.month\n",
    "test_data['week'] = test_data.date.dt.isocalendar().week.astype('int32')\n",
    "test_data['day_of_week'] = test_data.date.dt.dayofweek\n",
    "test_data['day'] = test_data.date.dt.day\n",
    "test_data['hour'] = test_data.date.dt.hour"
   ]
  },
  {
   "cell_type": "code",
   "execution_count": 80,
   "id": "8cfb4cef-0cf6-4922-8960-63e27f143494",
   "metadata": {},
   "outputs": [
    {
     "data": {
      "text/html": [
       "<div>\n",
       "<style scoped>\n",
       "    .dataframe tbody tr th:only-of-type {\n",
       "        vertical-align: middle;\n",
       "    }\n",
       "\n",
       "    .dataframe tbody tr th {\n",
       "        vertical-align: top;\n",
       "    }\n",
       "\n",
       "    .dataframe thead th {\n",
       "        text-align: right;\n",
       "    }\n",
       "</style>\n",
       "<table border=\"1\" class=\"dataframe\">\n",
       "  <thead>\n",
       "    <tr style=\"text-align: right;\">\n",
       "      <th></th>\n",
       "      <th>delivery_area_id</th>\n",
       "      <th>date</th>\n",
       "      <th>year</th>\n",
       "      <th>month</th>\n",
       "      <th>week</th>\n",
       "      <th>day_of_week</th>\n",
       "      <th>day</th>\n",
       "      <th>hour</th>\n",
       "    </tr>\n",
       "  </thead>\n",
       "  <tbody>\n",
       "    <tr>\n",
       "      <th>0</th>\n",
       "      <td>0</td>\n",
       "      <td>2021-12-01 09:00:00</td>\n",
       "      <td>2021</td>\n",
       "      <td>12</td>\n",
       "      <td>48</td>\n",
       "      <td>2</td>\n",
       "      <td>1</td>\n",
       "      <td>9</td>\n",
       "    </tr>\n",
       "    <tr>\n",
       "      <th>1</th>\n",
       "      <td>0</td>\n",
       "      <td>2021-12-01 10:00:00</td>\n",
       "      <td>2021</td>\n",
       "      <td>12</td>\n",
       "      <td>48</td>\n",
       "      <td>2</td>\n",
       "      <td>1</td>\n",
       "      <td>10</td>\n",
       "    </tr>\n",
       "    <tr>\n",
       "      <th>2</th>\n",
       "      <td>0</td>\n",
       "      <td>2021-12-01 11:00:00</td>\n",
       "      <td>2021</td>\n",
       "      <td>12</td>\n",
       "      <td>48</td>\n",
       "      <td>2</td>\n",
       "      <td>1</td>\n",
       "      <td>11</td>\n",
       "    </tr>\n",
       "    <tr>\n",
       "      <th>3</th>\n",
       "      <td>0</td>\n",
       "      <td>2021-12-01 12:00:00</td>\n",
       "      <td>2021</td>\n",
       "      <td>12</td>\n",
       "      <td>48</td>\n",
       "      <td>2</td>\n",
       "      <td>1</td>\n",
       "      <td>12</td>\n",
       "    </tr>\n",
       "    <tr>\n",
       "      <th>4</th>\n",
       "      <td>0</td>\n",
       "      <td>2021-12-01 13:00:00</td>\n",
       "      <td>2021</td>\n",
       "      <td>12</td>\n",
       "      <td>48</td>\n",
       "      <td>2</td>\n",
       "      <td>1</td>\n",
       "      <td>13</td>\n",
       "    </tr>\n",
       "  </tbody>\n",
       "</table>\n",
       "</div>"
      ],
      "text/plain": [
       "   delivery_area_id                date  year  month  week  day_of_week  day  \\\n",
       "0                 0 2021-12-01 09:00:00  2021     12    48            2    1   \n",
       "1                 0 2021-12-01 10:00:00  2021     12    48            2    1   \n",
       "2                 0 2021-12-01 11:00:00  2021     12    48            2    1   \n",
       "3                 0 2021-12-01 12:00:00  2021     12    48            2    1   \n",
       "4                 0 2021-12-01 13:00:00  2021     12    48            2    1   \n",
       "\n",
       "   hour  \n",
       "0     9  \n",
       "1    10  \n",
       "2    11  \n",
       "3    12  \n",
       "4    13  "
      ]
     },
     "execution_count": 80,
     "metadata": {},
     "output_type": "execute_result"
    }
   ],
   "source": [
    "test_data.head()"
   ]
  },
  {
   "cell_type": "code",
   "execution_count": 82,
   "id": "84150554-4bdf-42e9-9ebd-b30daffacf22",
   "metadata": {},
   "outputs": [],
   "source": [
    "test_data.to_csv(os.getcwd()+'\\test_data.csv', index=False)"
   ]
  },
  {
   "cell_type": "code",
   "execution_count": null,
   "id": "426fdedc-bc24-40fd-ab5a-e9972f05cbb3",
   "metadata": {},
   "outputs": [],
   "source": []
  },
  {
   "cell_type": "code",
   "execution_count": null,
   "id": "74c0b17f-3747-4883-abbe-f9ba0d4b5505",
   "metadata": {},
   "outputs": [],
   "source": []
  },
  {
   "cell_type": "code",
   "execution_count": null,
   "id": "f2f034c2-7343-46d5-be72-ce72f6b0ef4a",
   "metadata": {},
   "outputs": [],
   "source": []
  },
  {
   "cell_type": "code",
   "execution_count": null,
   "id": "02d86a27-dcd7-4de5-915f-d77aa2f37b57",
   "metadata": {},
   "outputs": [],
   "source": []
  },
  {
   "cell_type": "code",
   "execution_count": 20,
   "id": "52c4c0f8-6215-4cca-899a-b2f0609047b8",
   "metadata": {},
   "outputs": [
    {
     "data": {
      "text/html": [
       "<div>\n",
       "<style scoped>\n",
       "    .dataframe tbody tr th:only-of-type {\n",
       "        vertical-align: middle;\n",
       "    }\n",
       "\n",
       "    .dataframe tbody tr th {\n",
       "        vertical-align: top;\n",
       "    }\n",
       "\n",
       "    .dataframe thead th {\n",
       "        text-align: right;\n",
       "    }\n",
       "</style>\n",
       "<table border=\"1\" class=\"dataframe\">\n",
       "  <thead>\n",
       "    <tr style=\"text-align: right;\">\n",
       "      <th></th>\n",
       "      <th>delivery_area_id</th>\n",
       "      <th>date</th>\n",
       "      <th>orders_cnt</th>\n",
       "      <th>year</th>\n",
       "      <th>month</th>\n",
       "      <th>week</th>\n",
       "      <th>day</th>\n",
       "      <th>orders_cnt_day</th>\n",
       "    </tr>\n",
       "  </thead>\n",
       "  <tbody>\n",
       "    <tr>\n",
       "      <th>0</th>\n",
       "      <td>0</td>\n",
       "      <td>2021-04-01</td>\n",
       "      <td>24.0</td>\n",
       "      <td>2021</td>\n",
       "      <td>4</td>\n",
       "      <td>13</td>\n",
       "      <td>1</td>\n",
       "      <td>1280.0</td>\n",
       "    </tr>\n",
       "    <tr>\n",
       "      <th>1</th>\n",
       "      <td>1</td>\n",
       "      <td>2021-04-01</td>\n",
       "      <td>27.0</td>\n",
       "      <td>2021</td>\n",
       "      <td>4</td>\n",
       "      <td>13</td>\n",
       "      <td>1</td>\n",
       "      <td>1280.0</td>\n",
       "    </tr>\n",
       "    <tr>\n",
       "      <th>2</th>\n",
       "      <td>2</td>\n",
       "      <td>2021-04-01</td>\n",
       "      <td>21.0</td>\n",
       "      <td>2021</td>\n",
       "      <td>4</td>\n",
       "      <td>13</td>\n",
       "      <td>1</td>\n",
       "      <td>1280.0</td>\n",
       "    </tr>\n",
       "    <tr>\n",
       "      <th>3</th>\n",
       "      <td>3</td>\n",
       "      <td>2021-04-01</td>\n",
       "      <td>11.0</td>\n",
       "      <td>2021</td>\n",
       "      <td>4</td>\n",
       "      <td>13</td>\n",
       "      <td>1</td>\n",
       "      <td>1280.0</td>\n",
       "    </tr>\n",
       "    <tr>\n",
       "      <th>4</th>\n",
       "      <td>4</td>\n",
       "      <td>2021-04-01</td>\n",
       "      <td>13.0</td>\n",
       "      <td>2021</td>\n",
       "      <td>4</td>\n",
       "      <td>13</td>\n",
       "      <td>1</td>\n",
       "      <td>1280.0</td>\n",
       "    </tr>\n",
       "  </tbody>\n",
       "</table>\n",
       "</div>"
      ],
      "text/plain": [
       "   delivery_area_id       date  orders_cnt  year  month  week  day  \\\n",
       "0                 0 2021-04-01        24.0  2021      4    13    1   \n",
       "1                 1 2021-04-01        27.0  2021      4    13    1   \n",
       "2                 2 2021-04-01        21.0  2021      4    13    1   \n",
       "3                 3 2021-04-01        11.0  2021      4    13    1   \n",
       "4                 4 2021-04-01        13.0  2021      4    13    1   \n",
       "\n",
       "   orders_cnt_day  \n",
       "0          1280.0  \n",
       "1          1280.0  \n",
       "2          1280.0  \n",
       "3          1280.0  \n",
       "4          1280.0  "
      ]
     },
     "execution_count": 20,
     "metadata": {},
     "output_type": "execute_result"
    }
   ],
   "source": [
    "daily_orders.head()"
   ]
  },
  {
   "cell_type": "code",
   "execution_count": 14,
   "id": "520a631d-1b21-4c59-b144-28cc9aca807e",
   "metadata": {},
   "outputs": [],
   "source": [
    "daily_orders[daily_orders.delivery_area_id == 2]"
   ]
  },
  {
   "cell_type": "code",
   "execution_count": 41,
   "id": "667b5081-e0d8-46e8-a519-3ff6f8be2021",
   "metadata": {},
   "outputs": [
    {
     "data": {
      "application/vnd.jupyter.widget-view+json": {
       "model_id": "bd395ce1d55f4daf975cebe206897ca1",
       "version_major": 2,
       "version_minor": 0
      },
      "text/plain": [
       "  0%|          | 0/593 [00:00<?, ?it/s]"
      ]
     },
     "metadata": {},
     "output_type": "display_data"
    }
   ],
   "source": [
    "cols= ['delivery_area_id', 'zeros', 'dead']\n",
    "lst = []\n",
    "for area in tqdm(daily_orders.delivery_area_id.unique()):\n",
    "    n = daily_orders[daily_orders.delivery_area_id == area].shape[0]\n",
    "    zeros = daily_orders[(daily_orders.delivery_area_id == area) & (daily_orders.orders_cnt == 0)].shape[0]\n",
    "    last_7 = daily_orders[daily_orders.delivery_area_id == area].iloc[-7:,:]\n",
    "    if last_7[last_7.orders_cnt == 0].shape[0] == 7:\n",
    "        dead = 1\n",
    "    else:\n",
    "        dead = 0\n",
    "    lst.append([area, zeros*100/n , dead])\n",
    "    \n",
    "zeros = pd.DataFrame(data = lst, columns = cols)"
   ]
  },
  {
   "cell_type": "code",
   "execution_count": 43,
   "id": "e32cdd03-024c-4fa0-b549-bede10a60a86",
   "metadata": {},
   "outputs": [
    {
     "data": {
      "text/html": [
       "<div>\n",
       "<style scoped>\n",
       "    .dataframe tbody tr th:only-of-type {\n",
       "        vertical-align: middle;\n",
       "    }\n",
       "\n",
       "    .dataframe tbody tr th {\n",
       "        vertical-align: top;\n",
       "    }\n",
       "\n",
       "    .dataframe thead th {\n",
       "        text-align: right;\n",
       "    }\n",
       "</style>\n",
       "<table border=\"1\" class=\"dataframe\">\n",
       "  <thead>\n",
       "    <tr style=\"text-align: right;\">\n",
       "      <th></th>\n",
       "      <th>delivery_area_id</th>\n",
       "      <th>zeros</th>\n",
       "      <th>dead</th>\n",
       "    </tr>\n",
       "  </thead>\n",
       "  <tbody>\n",
       "    <tr>\n",
       "      <th>2</th>\n",
       "      <td>2</td>\n",
       "      <td>93.852459</td>\n",
       "      <td>1</td>\n",
       "    </tr>\n",
       "    <tr>\n",
       "      <th>64</th>\n",
       "      <td>453</td>\n",
       "      <td>65.163934</td>\n",
       "      <td>1</td>\n",
       "    </tr>\n",
       "    <tr>\n",
       "      <th>143</th>\n",
       "      <td>195</td>\n",
       "      <td>21.301775</td>\n",
       "      <td>1</td>\n",
       "    </tr>\n",
       "    <tr>\n",
       "      <th>336</th>\n",
       "      <td>190</td>\n",
       "      <td>23.270440</td>\n",
       "      <td>1</td>\n",
       "    </tr>\n",
       "    <tr>\n",
       "      <th>337</th>\n",
       "      <td>200</td>\n",
       "      <td>25.786164</td>\n",
       "      <td>1</td>\n",
       "    </tr>\n",
       "    <tr>\n",
       "      <th>354</th>\n",
       "      <td>367</td>\n",
       "      <td>35.849057</td>\n",
       "      <td>1</td>\n",
       "    </tr>\n",
       "    <tr>\n",
       "      <th>371</th>\n",
       "      <td>181</td>\n",
       "      <td>48.101266</td>\n",
       "      <td>1</td>\n",
       "    </tr>\n",
       "    <tr>\n",
       "      <th>372</th>\n",
       "      <td>182</td>\n",
       "      <td>12.025316</td>\n",
       "      <td>1</td>\n",
       "    </tr>\n",
       "  </tbody>\n",
       "</table>\n",
       "</div>"
      ],
      "text/plain": [
       "     delivery_area_id      zeros  dead\n",
       "2                   2  93.852459     1\n",
       "64                453  65.163934     1\n",
       "143               195  21.301775     1\n",
       "336               190  23.270440     1\n",
       "337               200  25.786164     1\n",
       "354               367  35.849057     1\n",
       "371               181  48.101266     1\n",
       "372               182  12.025316     1"
      ]
     },
     "execution_count": 43,
     "metadata": {},
     "output_type": "execute_result"
    }
   ],
   "source": [
    "zeros[zeros.dead == 1]"
   ]
  },
  {
   "cell_type": "markdown",
   "id": "dbc194bb-a253-4240-8730-de8f6c1ee1f8",
   "metadata": {},
   "source": [
    "зона 2, 453, 195, 190, 200, 367, 181, 182"
   ]
  },
  {
   "cell_type": "code",
   "execution_count": 59,
   "id": "48ab287b-f3e0-410b-ae7b-b81d417c3177",
   "metadata": {},
   "outputs": [],
   "source": [
    "qqq = daily_orders[daily_orders.delivery_area_id == 182]"
   ]
  },
  {
   "cell_type": "code",
   "execution_count": 60,
   "id": "fc54ecbe-3d10-4743-92a4-3f3df991e8aa",
   "metadata": {},
   "outputs": [
    {
     "data": {
      "image/png": "[encoded data removed]",
      "text/plain": [
       "<Figure size 720x360 with 1 Axes>"
      ]
     },
     "metadata": {
      "needs_background": "light"
     },
     "output_type": "display_data"
    }
   ],
   "source": [
    "plt.figure(figsize=(10,5))\n",
    "plt.plot(qqq.date, qqq.orders_cnt)\n",
    "plt.show()"
   ]
  }
 ],
 "metadata": {
  "kernelspec": {
   "display_name": "Python 3 (ipykernel)",
   "language": "python",
   "name": "python3"
  },
  "language_info": {
   "codemirror_mode": {
    "name": "ipython",
    "version": 3
   },
   "file_extension": ".py",
   "mimetype": "text/x-python",
   "name": "python",
   "nbconvert_exporter": "python",
   "pygments_lexer": "ipython3",
   "version": "3.9.12"
  }
 },
 "nbformat": 4,
 "nbformat_minor": 5
}
